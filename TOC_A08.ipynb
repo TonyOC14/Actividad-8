{
  "nbformat": 4,
  "nbformat_minor": 0,
  "metadata": {
    "colab": {
      "provenance": [],
      "authorship_tag": "ABX9TyOd4c01IGkTivGNF6GutSlJ",
      "include_colab_link": true
    },
    "kernelspec": {
      "name": "python3",
      "display_name": "Python 3"
    },
    "language_info": {
      "name": "python"
    }
  },
  "cells": [
    {
      "cell_type": "markdown",
      "metadata": {
        "id": "view-in-github",
        "colab_type": "text"
      },
      "source": [
        "<a href=\"https://colab.research.google.com/github/TonyOC14/Actividad-8/blob/main/TOC_A08.ipynb\" target=\"_parent\"><img src=\"https://colab.research.google.com/assets/colab-badge.svg\" alt=\"Open In Colab\"/></a>"
      ]
    },
    {
      "cell_type": "code",
      "execution_count": 1,
      "metadata": {
        "id": "47Ge0DguIvvw"
      },
      "outputs": [],
      "source": [
        "import random\n",
        "from IPython.display import clear_output\n",
        "import time"
      ]
    },
    {
      "cell_type": "markdown",
      "source": [
        "\n",
        "\n",
        "1.- Programa en python que genere un número entre el 1 y 10 (no visible) preguntarle al usuario que número cree que generó la computadora, el usuario tendrá 3 oportunidades de adivinar.\n",
        "\n",
        "Decir si adivino o si falló en sus 3 intentos.\n",
        "\n",
        "NOTA: 100% VALIDADO (usar función para validar números)\n",
        "\n",
        "NOTA2: El usuario podrá jugar cuantas veces lo desee, al final del juego desplegar cantidad de ganados y perdidos\n"
      ],
      "metadata": {
        "id": "MZ7u4KchI1aV"
      }
    },
    {
      "cell_type": "code",
      "source": [
        "def validnum(ri,rf):\n",
        "  salida = 1\n",
        "  ri=1\n",
        "  rf=10\n",
        "  while (salida == 1):\n",
        "    try:\n",
        "      n=input(\"Ingrese un numero: \")\n",
        "      n_ent=int(n)\n",
        "      if int(n):\n",
        "        return n_ent\n",
        "    except:\n",
        "      print(\"Unicamente ingrese numeros enteros\")\n",
        "    else:\n",
        "      salida = 0"
      ],
      "metadata": {
        "id": "JdJ5EChLQW_8"
      },
      "execution_count": 5,
      "outputs": []
    },
    {
      "cell_type": "code",
      "source": [
        "decision = 1\n",
        "wins = 0\n",
        "losses = 0\n",
        "while decision == 1:\n",
        "  intentos = 2\n",
        "  num = random.randint(1,10)\n",
        "  while intentos>=0:\n",
        "    print(\"Bienvenido listo para jugar?\")\n",
        "    n=validnum(1,10)\n",
        "    if n==num:\n",
        "      wins+=1\n",
        "      print(\"Has ganado!\")\n",
        "      break\n",
        "    else:\n",
        "      print(f\"Te quedan {intentos} intentos\")\n",
        "      intentos-=1\n",
        "  else:\n",
        "    print(\"has perdido :(\")\n",
        "    losses+=1\n",
        "  clear_output(wait=True)\n",
        "  time.sleep(5)\n",
        "  print(\"Si desea seguir jugando ingrese 1 \")\n",
        "  print(\"Si desea dejar de jugar ingrese cualquie numero\")\n",
        "  decision=validnum(1,10000000)\n",
        "  clear_output(wait=True)\n",
        "  time.sleep(2)\n",
        "print(f\"Ganaste {wins}\")\n",
        "print(f\"Perdiste {losses}\")"
      ],
      "metadata": {
        "colab": {
          "base_uri": "https://localhost:8080/"
        },
        "id": "sZDyTYmHQXHm",
        "outputId": "5ae78c14-add8-409c-dad8-abff3d3df065"
      },
      "execution_count": 6,
      "outputs": [
        {
          "output_type": "stream",
          "name": "stdout",
          "text": [
            "Ganaste 1\n",
            "Perdiste 0\n"
          ]
        }
      ]
    },
    {
      "cell_type": "markdown",
      "source": [
        "\n",
        "\n",
        "2.- El juego Busca Número muestra una lista de 10 numeros, sin mostrar su contenido,\n",
        "\n",
        "Al usuario se le muestra un número que se generó aleatoriamente y el usuario tendrá 3 intentos de adivinar en qué índice del arreglo se encuentra.\n",
        "\n",
        "El usuario recibirá un mensaje que diga GANASTE, PERDISTE, TIENES UN NUEVO INTENTO\n",
        "\n",
        "El usuario podrá jugar cuantas veces lo desee.\n",
        "\n",
        "NOTA: La lista se deberá llenar con números aleatorios del 1 al 10 no repetidos.\n",
        "\n",
        "(Hacer una función que regrese la lista con los 10 números sin repetir)\n"
      ],
      "metadata": {
        "id": "4x4yLyCMQkvK"
      }
    },
    {
      "cell_type": "markdown",
      "source": [
        "VERSIÓN A) Usar ciclos para validar los repetidos, y sólo random para generar los números dentro del rango"
      ],
      "metadata": {
        "id": "QW7TIqunQzmp"
      }
    },
    {
      "cell_type": "code",
      "source": [
        "def vali_num(msge,msge2):\n",
        "    salida = 1\n",
        "    while(salida == 1):\n",
        "            try:\n",
        "                print(msge)\n",
        "                n = input(f\"{msge2}\")\n",
        "                n_entero = int(n)\n",
        "                if int(n):\n",
        "                    return n_entero\n",
        "            except ValueError:\n",
        "                print(\"No es un numero\")\n",
        "                print(\"Intenta de nuevo\")\n",
        "            else:\n",
        "                salida = 0"
      ],
      "metadata": {
        "id": "gkNPNWEMRVK9"
      },
      "execution_count": 9,
      "outputs": []
    },
    {
      "cell_type": "code",
      "source": [
        "def juego2A():\n",
        "    lista = []\n",
        "    while(len(lista) < 10):\n",
        "        num = random.randint(1,10)\n",
        "        if num not in lista:\n",
        "            lista.append(num)\n",
        "    for i in range(len(lista)):\n",
        "        print(\"[x]\",end='')\n",
        "    alea = random.randint(1,10)\n",
        "    print()\n",
        "    print(lista[alea])\n",
        "\n",
        "    buena = 1\n",
        "    fallo = 2\n",
        "    while(fallo>=0):\n",
        "        msg1 = \"En que indice crees que este el numero? \"\n",
        "        msg2 = \"Ingrese la respuesta: \"\n",
        "        usuario = vali_num(msg1,msg2)\n",
        "        if(usuario == num):\n",
        "            print(f\"Has acertado! al intento numero {buena}\")\n",
        "            return 1\n",
        "            break\n",
        "        else:\n",
        "            if fallo!= 0:\n",
        "                print(f\"Te quedan {fallo} intento mas\")\n",
        "            else:\n",
        "                print(f\"Perdiste :(,mejor suerte para la proxima\")\n",
        "                clear_output(wait=True)\n",
        "                return 0\n",
        "        fallo -= 1\n",
        "        buena += 1"
      ],
      "metadata": {
        "id": "6tgo8dsCQ7Ae"
      },
      "execution_count": 13,
      "outputs": []
    },
    {
      "cell_type": "code",
      "source": [
        "res = 1\n",
        "gano = 0\n",
        "perdio = 0\n",
        "while(res == 1):\n",
        "    jue = juego2A()\n",
        "    if jue == 1:\n",
        "        gano += 1\n",
        "    if jue == 0:\n",
        "        perdio += 1\n",
        "    clear_output(wait=True)\n",
        "    time.sleep(2)\n",
        "    print(\"INGRESA:\")\n",
        "    print(\"1 - SI DESEAS CONTINUAR \")\n",
        "    print(\"CUALQUIER NUMERO - SI DESEAS TERMINAR \")\n",
        "    d = \"Deseas seguir jugando?\"\n",
        "    d2 = \"Ingresa tu decision: \"\n",
        "    res = vali_num(d,d2)\n",
        "    clear_output(wait=True)\n",
        "    time.sleep(2)\n",
        "\n",
        "print(f\"Ganaste {gano}\")\n",
        "print(f\"Perdiste {perdio}\")"
      ],
      "metadata": {
        "colab": {
          "base_uri": "https://localhost:8080/"
        },
        "id": "MhJ3tiY0Q-tE",
        "outputId": "2a354139-152b-4ba9-e544-6e8ebc706dd5"
      },
      "execution_count": 14,
      "outputs": [
        {
          "output_type": "stream",
          "name": "stdout",
          "text": [
            "Ganaste 0\n",
            "Perdiste 1\n"
          ]
        }
      ]
    },
    {
      "cell_type": "markdown",
      "source": [
        "VERSIÓN B) Usa funciones de la librería Random para llenar la lista con los número sin repetir"
      ],
      "metadata": {
        "id": "22cHlIIaRA27"
      }
    },
    {
      "cell_type": "code",
      "source": [
        "def juego2B():\n",
        "    lista = []\n",
        "    lista = range(1,11)\n",
        "    lista = random.sample(lista,10)\n",
        "    num = random.randint(1,10)\n",
        "\n",
        "    for i in range(len(lista)):\n",
        "        print(\"[x]\",end='')\n",
        "    alea = random.randint(1,10)\n",
        "    print()\n",
        "    print(lista[alea])\n",
        "\n",
        "    buena = 1\n",
        "    fallo = 2\n",
        "    while(fallo>=0):\n",
        "        msg1 = \"En que indice crees que este el numero? \"\n",
        "        msg2 = \"Ingrese la respuesta: \"\n",
        "        usuario = vali_num(msg1,msg2)\n",
        "        if(usuario == num):\n",
        "            print(f\"Has acertado! al intento numero {buena}\")\n",
        "            return 1\n",
        "            break\n",
        "        else:\n",
        "            if fallo!= 0:\n",
        "                print(f\"Te quedan {fallo} intento mas\")\n",
        "            else:\n",
        "                print(f\"Perdiste :(,mejor suerte para la proxima\")\n",
        "                clear_output(wait=True)\n",
        "                return 0\n",
        "        fallo -= 1\n",
        "        buena += 1"
      ],
      "metadata": {
        "id": "Fg8L5fzFREHH"
      },
      "execution_count": 16,
      "outputs": []
    },
    {
      "cell_type": "code",
      "source": [
        "resp = 1\n",
        "win = 0\n",
        "fail = 0\n",
        "while(resp == 1):\n",
        "    jue = juego2B()\n",
        "    if jue == 1:\n",
        "        win += 1\n",
        "    if jue == 0:\n",
        "        fail += 1\n",
        "    clear_output(wait=True)\n",
        "    time.sleep(2)\n",
        "    print(\"INGRESA:\")\n",
        "    print(\"1 - SI DESEAS CONTINUAR \")\n",
        "    print(\"CUALQUIER NUMERO - SI DESEAS TERMINAR \")\n",
        "    mensaje1 = \"Deseas seguir jugando?\"\n",
        "    mensaje2 = \"Ingresa tu decision : \"\n",
        "    resp = vali_num(mensaje1,mensaje2)\n",
        "    clear_output(wait=True)\n",
        "    time.sleep(2)\n",
        "\n",
        "print(f\"Ganaste {win}\")\n",
        "print(f\"Perdiste {fail}\")"
      ],
      "metadata": {
        "colab": {
          "base_uri": "https://localhost:8080/"
        },
        "id": "qNSh1rmAREOM",
        "outputId": "5757b890-ca56-4cf3-c36c-f468f6b8b5ba"
      },
      "execution_count": 17,
      "outputs": [
        {
          "output_type": "stream",
          "name": "stdout",
          "text": [
            "Ganaste 0\n",
            "Perdiste 1\n"
          ]
        }
      ]
    },
    {
      "cell_type": "markdown",
      "source": [
        "VERSIÓN C) Usa funciones de la librería Random para llenar la lista con los número sin repetir"
      ],
      "metadata": {
        "id": "Fef-h2WYRH-r"
      }
    },
    {
      "cell_type": "code",
      "source": [
        "def juego3C():\n",
        "    lista = [1,2,3,4,5,6,7,8,9,1]\n",
        "    random.shuffle(lista)\n",
        "    num = random.randint(1,10)\n",
        "\n",
        "    for i in range(len(lista)):\n",
        "        print(\"[x]\",end='')\n",
        "    alea = random.randint(1,10)\n",
        "    print()\n",
        "    print(lista[alea])\n",
        "\n",
        "    buena = 1\n",
        "    fallo = 2\n",
        "    while(fallo>=0):\n",
        "        msg1 = \"En que indice crees que este el numero? \"\n",
        "        msg2 = \"Ingrese la respuesta: \"\n",
        "        usuario = vali_num(msg1,msg2)\n",
        "        if(usuario == num):\n",
        "            print(f\"Has acertado! al intento numero {buena}\")\n",
        "            return 1\n",
        "            break\n",
        "        else:\n",
        "            if fallo!= 0:\n",
        "                print(f\"Te quedan {fallo} intento mas......\")\n",
        "            else:\n",
        "                print(f\"Perdiste :(,mejor suerte para la proxima\")\n",
        "                clear_output(wait=True)\n",
        "                return 0\n",
        "        fallo -= 1\n",
        "        buena += 1"
      ],
      "metadata": {
        "id": "zNQOfR1aRJoD"
      },
      "execution_count": 18,
      "outputs": []
    },
    {
      "cell_type": "code",
      "source": [
        "resp = 1\n",
        "agano = 0\n",
        "aperdio = 0\n",
        "while(resp == 1):\n",
        "    jue = juego3C()\n",
        "    if jue == 1:\n",
        "        agano += 1\n",
        "    if jue == 0:\n",
        "        aperdio += 1\n",
        "    clear_output(wait=True)\n",
        "    time.sleep(2)\n",
        "    print(\"INGRESA:\")\n",
        "    print(\"1 - SI DESEAS CONTINUAR \")\n",
        "    print(\"CUALQUIER NUMERO - SI DESEAS TERMINAR \")\n",
        "    mensaje1 = \"Deseas seguir jugando?\"\n",
        "    mensaje2 = \"Ingresa tu decision : \"\n",
        "    resp = vali_num(mensaje1,mensaje2)\n",
        "    clear_output(wait=True)\n",
        "    time.sleep(2)\n",
        "\n",
        "print(f\"Ganaste {agano}\")\n",
        "print(f\"Perdiste {aperdio}\")"
      ],
      "metadata": {
        "colab": {
          "base_uri": "https://localhost:8080/"
        },
        "id": "WV07ccuiRJt-",
        "outputId": "701c9f49-4588-42f8-8c84-5e3b5b480b93"
      },
      "execution_count": 19,
      "outputs": [
        {
          "output_type": "stream",
          "name": "stdout",
          "text": [
            "Ganaste 2\n",
            "Perdiste 1\n"
          ]
        }
      ]
    }
  ]
}